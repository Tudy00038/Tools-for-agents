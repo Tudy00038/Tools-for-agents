{
 "cells": [
  {
   "cell_type": "code",
   "execution_count": 1,
   "metadata": {},
   "outputs": [],
   "source": [
    "import os\n",
    "\n",
    "os.environ[\"TAVILY_API_KEY\"] = \"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\"\n"
   ]
  },
  {
   "cell_type": "code",
   "execution_count": 2,
   "metadata": {},
   "outputs": [],
   "source": [
    "import os\n",
    "\n",
    "os.environ[\"NOMIC_API_KEY\"] = \"nk-s1262hYIqiiWAPWQehKgEswm0sdiZqw-Qa2zt6KdOEs\"\n"
   ]
  },
  {
   "cell_type": "code",
   "execution_count": 1,
   "metadata": {},
   "outputs": [],
   "source": [
    "import requests\n",
    "\n",
    "def fetch_readme_content(repo_url):\n",
    "    # Construct the raw URL for the README.md file\n",
    "    if repo_url.endswith('/'):\n",
    "        repo_url = repo_url[:-1]\n",
    "    raw_url = repo_url.replace('github.com', 'raw.githubusercontent.com') + '/main/README.md'\n",
    "    \n",
    "    # Fetch the content of the README.md file\n",
    "    response = requests.get(raw_url)\n",
    "    if response.status_code == 200:\n",
    "        return response.text\n",
    "    else:\n",
    "        raise FileNotFoundError(f\"README.md not found at {raw_url}\")\n"
   ]
  },
  {
   "cell_type": "code",
   "execution_count": 2,
   "metadata": {},
   "outputs": [],
   "source": [
    "from langchain.text_splitter import CharacterTextSplitter\n",
    "\n",
    "def chunk_readme_content(readme_content):\n",
    "    text_splitter = CharacterTextSplitter(chunk_size=1000, chunk_overlap=200)\n",
    "    return text_splitter.split_text(readme_content)\n"
   ]
  },
  {
   "cell_type": "code",
   "execution_count": 10,
   "metadata": {},
   "outputs": [],
   "source": [
    "from langchain_nomic import NomicEmbeddings\n",
    "from langchain.vectorstores import FAISS\n",
    "\n",
    "def create_vector_store(chunks):\n",
    "    embeddings = NomicEmbeddings(model=\"nomic-embed-text-v1.5\")\n",
    "    vector_store = FAISS.from_texts(chunks, embeddings)\n",
    "    return vector_store\n"
   ]
  },
  {
   "cell_type": "code",
   "execution_count": 7,
   "metadata": {},
   "outputs": [],
   "source": [
    "from langchain.llms import Ollama\n",
    "def setup_llm():\n",
    "    llm = Ollama(model=\"llama3.2:latest\", temperature=0)\n",
    "    return llm\n"
   ]
  },
  {
   "cell_type": "code",
   "execution_count": 5,
   "metadata": {},
   "outputs": [],
   "source": [
    "from langchain.chains import RetrievalQA\n",
    "\n",
    "def create_retrieval_qa_chain(vector_store, llm):\n",
    "    retriever = vector_store.as_retriever()\n",
    "    qa_chain = RetrievalQA.from_chain_type(llm=llm, retriever=retriever, chain_type=\"stuff\")\n",
    "    return qa_chain\n"
   ]
  },
  {
   "cell_type": "code",
   "execution_count": 8,
   "metadata": {},
   "outputs": [],
   "source": [
    "def summarize_readme(repo_url):\n",
    "    # Fetch the README.md content\n",
    "    readme_content = fetch_readme_content(repo_url)\n",
    "    \n",
    "    # Chunk the content\n",
    "    chunks = chunk_readme_content(readme_content)\n",
    "    \n",
    "    # Create a vector store\n",
    "    vector_store = create_vector_store(chunks)\n",
    "    \n",
    "    # Set up the Llama LLM\n",
    "    llm = setup_llm()\n",
    "    \n",
    "    # Create a RetrievalQA chain\n",
    "    qa_chain = create_retrieval_qa_chain(vector_store, llm)\n",
    "    \n",
    "    # Generate the summary\n",
    "    summary = qa_chain.run(\"Provide a summary of this README.md file.\")\n",
    "    return summary\n"
   ]
  },
  {
   "cell_type": "code",
   "execution_count": 12,
   "metadata": {},
   "outputs": [
    {
     "name": "stdout",
     "output_type": "stream",
     "text": [
      "I don't know what the question is. The provided context appears to be a snippet from a README.md file, but it doesn't specify what the question is or what information is being requested.\n"
     ]
    }
   ],
   "source": [
    "repo_url = \"https://github.com/catamaican/AED\"\n",
    "summary = summarize_readme(repo_url)\n",
    "print(summary)\n"
   ]
  }
 ],
 "metadata": {
  "kernelspec": {
   "display_name": "env",
   "language": "python",
   "name": "python3"
  },
  "language_info": {
   "codemirror_mode": {
    "name": "ipython",
    "version": 3
   },
   "file_extension": ".py",
   "mimetype": "text/x-python",
   "name": "python",
   "nbconvert_exporter": "python",
   "pygments_lexer": "ipython3",
   "version": "3.12.2"
  }
 },
 "nbformat": 4,
 "nbformat_minor": 2
}
